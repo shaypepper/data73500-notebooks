{
 "cells": [
  {
   "cell_type": "code",
   "execution_count": 3,
   "metadata": {},
   "outputs": [
    {
     "data": {
      "text/html": [
       "<div>\n",
       "<style scoped>\n",
       "    .dataframe tbody tr th:only-of-type {\n",
       "        vertical-align: middle;\n",
       "    }\n",
       "\n",
       "    .dataframe tbody tr th {\n",
       "        vertical-align: top;\n",
       "    }\n",
       "\n",
       "    .dataframe thead th {\n",
       "        text-align: right;\n",
       "    }\n",
       "</style>\n",
       "<table border=\"1\" class=\"dataframe\">\n",
       "  <thead>\n",
       "    <tr style=\"text-align: right;\">\n",
       "      <th></th>\n",
       "      <th>executionTime</th>\n",
       "      <th>stationBeanList</th>\n",
       "    </tr>\n",
       "  </thead>\n",
       "  <tbody>\n",
       "    <tr>\n",
       "      <td>0</td>\n",
       "      <td>2020-03-09 05:33:11 PM</td>\n",
       "      <td>{'id': 304, 'stationName': 'Broadway &amp; Battery...</td>\n",
       "    </tr>\n",
       "    <tr>\n",
       "      <td>1</td>\n",
       "      <td>2020-03-09 05:33:11 PM</td>\n",
       "      <td>{'id': 359, 'stationName': 'E 47 St &amp; Park Ave...</td>\n",
       "    </tr>\n",
       "    <tr>\n",
       "      <td>2</td>\n",
       "      <td>2020-03-09 05:33:11 PM</td>\n",
       "      <td>{'id': 367, 'stationName': 'E 53 St &amp; Lexingto...</td>\n",
       "    </tr>\n",
       "    <tr>\n",
       "      <td>3</td>\n",
       "      <td>2020-03-09 05:33:11 PM</td>\n",
       "      <td>{'id': 402, 'stationName': 'Broadway &amp; E 22 St...</td>\n",
       "    </tr>\n",
       "    <tr>\n",
       "      <td>4</td>\n",
       "      <td>2020-03-09 05:33:11 PM</td>\n",
       "      <td>{'id': 3255, 'stationName': '8 Ave &amp; W 31 St',...</td>\n",
       "    </tr>\n",
       "  </tbody>\n",
       "</table>\n",
       "</div>"
      ],
      "text/plain": [
       "            executionTime                                    stationBeanList\n",
       "0  2020-03-09 05:33:11 PM  {'id': 304, 'stationName': 'Broadway & Battery...\n",
       "1  2020-03-09 05:33:11 PM  {'id': 359, 'stationName': 'E 47 St & Park Ave...\n",
       "2  2020-03-09 05:33:11 PM  {'id': 367, 'stationName': 'E 53 St & Lexingto...\n",
       "3  2020-03-09 05:33:11 PM  {'id': 402, 'stationName': 'Broadway & E 22 St...\n",
       "4  2020-03-09 05:33:11 PM  {'id': 3255, 'stationName': '8 Ave & W 31 St',..."
      ]
     },
     "execution_count": 3,
     "metadata": {},
     "output_type": "execute_result"
    }
   ],
   "source": [
    "import pandas as pd\n",
    "from pandas.io.json import json_normalize\n",
    "citi_bike_data = json_normalize('https://feeds.citibikenyc.com/stations/stations.json')\n",
    "citi_bike_data.head()"
   ]
  },
  {
   "cell_type": "code",
   "execution_count": 25,
   "metadata": {},
   "outputs": [
    {
     "data": {
      "text/plain": [
       "0      {'id': 72, 'stationName': 'W 52 St & 11 Ave', ...\n",
       "1      {'id': 79, 'stationName': 'Franklin St & W Bro...\n",
       "2      {'id': 82, 'stationName': 'St James Pl & Pearl...\n",
       "3      {'id': 83, 'stationName': 'Atlantic Ave & Fort...\n",
       "4      {'id': 116, 'stationName': 'W 17 St & 8 Ave', ...\n",
       "                             ...                        \n",
       "931    {'id': 3913, 'stationName': 'Sands St Gate', '...\n",
       "932    {'id': 3914, 'stationName': 'West End Ave & W ...\n",
       "933    {'id': 3916, 'stationName': 'Pearl St & Peck S...\n",
       "934    {'id': 3917, 'stationName': 'Willoughby St & A...\n",
       "935    {'id': 3918, 'stationName': 'Avenue D & E 8 St...\n",
       "Name: stationBeanList, Length: 936, dtype: object"
      ]
     },
     "execution_count": 25,
     "metadata": {},
     "output_type": "execute_result"
    }
   ],
   "source": [
    "station_list = citi_bike_data[\"stationBeanList\"]\n",
    "station_list"
   ]
  },
  {
   "cell_type": "code",
   "execution_count": 26,
   "metadata": {},
   "outputs": [
    {
     "data": {
      "text/plain": [
       "{'id': 72,\n",
       " 'stationName': 'W 52 St & 11 Ave',\n",
       " 'availableDocks': 34,\n",
       " 'totalDocks': 55,\n",
       " 'latitude': 40.76727216,\n",
       " 'longitude': -73.99392888,\n",
       " 'statusValue': 'In Service',\n",
       " 'statusKey': 1,\n",
       " 'availableBikes': 18,\n",
       " 'stAddress1': 'W 52 St & 11 Ave',\n",
       " 'stAddress2': '',\n",
       " 'city': '',\n",
       " 'postalCode': '',\n",
       " 'location': '',\n",
       " 'altitude': '',\n",
       " 'testStation': False,\n",
       " 'lastCommunicationTime': '2020-03-02 07:56:51 PM',\n",
       " 'landMark': ''}"
      ]
     },
     "execution_count": 26,
     "metadata": {},
     "output_type": "execute_result"
    }
   ],
   "source": [
    "station_list[0]"
   ]
  },
  {
   "cell_type": "code",
   "execution_count": 44,
   "metadata": {},
   "outputs": [
    {
     "data": {
      "text/plain": [
       "0    {'id': 72, 'stationName': 'W 52 St & 11 Ave', ...\n",
       "1    {'id': 79, 'stationName': 'Franklin St & W Bro...\n",
       "2    {'id': 82, 'stationName': 'St James Pl & Pearl...\n",
       "3    {'id': 83, 'stationName': 'Atlantic Ave & Fort...\n",
       "4    {'id': 116, 'stationName': 'W 17 St & 8 Ave', ...\n",
       "Name: stationBeanList, dtype: object"
      ]
     },
     "execution_count": 44,
     "metadata": {},
     "output_type": "execute_result"
    }
   ],
   "source": [
    "station_list.head()"
   ]
  },
  {
   "cell_type": "code",
   "execution_count": null,
   "metadata": {},
   "outputs": [],
   "source": []
  }
 ],
 "metadata": {
  "kernelspec": {
   "display_name": "Python 3",
   "language": "python",
   "name": "python3"
  },
  "language_info": {
   "codemirror_mode": {
    "name": "ipython",
    "version": 3
   },
   "file_extension": ".py",
   "mimetype": "text/x-python",
   "name": "python",
   "nbconvert_exporter": "python",
   "pygments_lexer": "ipython3",
   "version": "3.7.4"
  }
 },
 "nbformat": 4,
 "nbformat_minor": 2
}
