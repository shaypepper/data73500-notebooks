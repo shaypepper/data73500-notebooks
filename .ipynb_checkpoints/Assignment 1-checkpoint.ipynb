{
 "cells": [
  {
   "cell_type": "markdown",
   "metadata": {},
   "source": [
    "# Assignment 1\n",
    "### by Shay Culpepper\n",
    "\n",
    "I am interested in trends in EPA violations over the past 3 administrations. Can looking at the administration, industry, and violation type give us an idea of how large the settlements might be? While Obama was a very progressive president, was his administration actually more effective in prosecuting environmental violators as his successor and predecessor?  Are Bush and Trump comparable in their prosecutions? \n",
    "\n",
    "The best independent variables for me would be presidential administration, type of violation, company size, industry. Penalty amount would be the dependent variable.  \n",
    "\n",
    "The [Violation tracker](https://www.goodjobsfirst.org/violation-tracker) has most of the data (and more!), however it doesn't have company size. Meaningful analysis would require that information too, I think. "
   ]
  },
  {
   "cell_type": "code",
   "execution_count": 2,
   "metadata": {
    "scrolled": true
   },
   "outputs": [
    {
     "data": {
      "text/html": [
       "<div>\n",
       "<style scoped>\n",
       "    .dataframe tbody tr th:only-of-type {\n",
       "        vertical-align: middle;\n",
       "    }\n",
       "\n",
       "    .dataframe tbody tr th {\n",
       "        vertical-align: top;\n",
       "    }\n",
       "\n",
       "    .dataframe thead th {\n",
       "        text-align: right;\n",
       "    }\n",
       "</style>\n",
       "<table border=\"1\" class=\"dataframe\">\n",
       "  <thead>\n",
       "    <tr style=\"text-align: right;\">\n",
       "      <th></th>\n",
       "      <th>Company</th>\n",
       "      <th>Parent Company</th>\n",
       "      <th>Penalty Amount</th>\n",
       "      <th>Penalty Year</th>\n",
       "    </tr>\n",
       "  </thead>\n",
       "  <tbody>\n",
       "    <tr>\n",
       "      <td>0</td>\n",
       "      <td>5N Plus Inc.</td>\n",
       "      <td>NaN</td>\n",
       "      <td>$61,150</td>\n",
       "      <td>2013</td>\n",
       "    </tr>\n",
       "    <tr>\n",
       "      <td>1</td>\n",
       "      <td>A&amp;L Cesspool Service Corporation</td>\n",
       "      <td>NaN</td>\n",
       "      <td>$900,000</td>\n",
       "      <td>2016</td>\n",
       "    </tr>\n",
       "    <tr>\n",
       "      <td>2</td>\n",
       "      <td>A-1 Barrel</td>\n",
       "      <td>NaN</td>\n",
       "      <td>$15,125</td>\n",
       "      <td>2012</td>\n",
       "    </tr>\n",
       "    <tr>\n",
       "      <td>3</td>\n",
       "      <td>A-1 Petroleum and Propane, Inc.</td>\n",
       "      <td>NaN</td>\n",
       "      <td>$40,000</td>\n",
       "      <td>2015</td>\n",
       "    </tr>\n",
       "    <tr>\n",
       "      <td>4</td>\n",
       "      <td>A-1 Restaurant Services, L.L.C.</td>\n",
       "      <td>NaN</td>\n",
       "      <td>$200,000</td>\n",
       "      <td>2016</td>\n",
       "    </tr>\n",
       "  </tbody>\n",
       "</table>\n",
       "</div>"
      ],
      "text/plain": [
       "                            Company Parent Company Penalty Amount  \\\n",
       "0                      5N Plus Inc.            NaN        $61,150   \n",
       "1  A&L Cesspool Service Corporation            NaN       $900,000   \n",
       "2                        A-1 Barrel            NaN        $15,125   \n",
       "3   A-1 Petroleum and Propane, Inc.            NaN        $40,000   \n",
       "4   A-1 Restaurant Services, L.L.C.            NaN       $200,000   \n",
       "\n",
       "   Penalty Year  \n",
       "0          2013  \n",
       "1          2016  \n",
       "2          2012  \n",
       "3          2015  \n",
       "4          2016  "
      ]
     },
     "execution_count": 2,
     "metadata": {},
     "output_type": "execute_result"
    }
   ],
   "source": [
    "import pandas as pd\n",
    "data_url = 'https://docs.google.com/spreadsheets/d/1eUlUPy_v7ZYxnpNjHWFySTFQ9wFksnvj27ZiJJsPR3k/pub?output=csv#gid=0'\n",
    "df=pd.read_csv(data_url, sep=',',header=0,usecols=['Penalty Amount', 'Company', 'Parent Company', 'Penalty Year', ])\n",
    "df.head()"
   ]
  },
  {
   "cell_type": "code",
   "execution_count": 3,
   "metadata": {},
   "outputs": [
    {
     "data": {
      "text/plain": [
       "0         $61,150\n",
       "1        $900,000\n",
       "2         $15,125\n",
       "3         $40,000\n",
       "4        $200,000\n",
       "           ...   \n",
       "40626      $5,000\n",
       "40627    $525,000\n",
       "40628     $90,274\n",
       "40629    $150,000\n",
       "40630     $15,000\n",
       "Name: Penalty Amount, Length: 40631, dtype: object"
      ]
     },
     "execution_count": 3,
     "metadata": {},
     "output_type": "execute_result"
    }
   ],
   "source": [
    "df['Penalty Amount']"
   ]
  },
  {
   "cell_type": "code",
   "execution_count": 4,
   "metadata": {},
   "outputs": [],
   "source": [
    "df['Penalty Amount'] = df['Penalty Amount'].replace('[\\$,]', '', regex=True).astype(float)"
   ]
  },
  {
   "cell_type": "code",
   "execution_count": 5,
   "metadata": {
    "scrolled": true
   },
   "outputs": [
    {
     "data": {
      "text/plain": [
       "0         61150.0\n",
       "1        900000.0\n",
       "2         15125.0\n",
       "3         40000.0\n",
       "4        200000.0\n",
       "           ...   \n",
       "40626      5000.0\n",
       "40627    525000.0\n",
       "40628     90274.0\n",
       "40629    150000.0\n",
       "40630     15000.0\n",
       "Name: Penalty Amount, Length: 40631, dtype: float64"
      ]
     },
     "execution_count": 5,
     "metadata": {},
     "output_type": "execute_result"
    }
   ],
   "source": [
    "df['Penalty Amount']"
   ]
  },
  {
   "cell_type": "code",
   "execution_count": 6,
   "metadata": {},
   "outputs": [],
   "source": [
    "def get_pres_by_year(yr):\n",
    "    if yr <= 2008:\n",
    "        return 'Bush'\n",
    "    if yr <= 2016:\n",
    "        return 'Obama'\n",
    "    return 'Trump'"
   ]
  },
  {
   "cell_type": "code",
   "execution_count": 7,
   "metadata": {},
   "outputs": [],
   "source": [
    "df['President'] = df['Penalty Year'].map(get_pres_by_year)"
   ]
  },
  {
   "cell_type": "code",
   "execution_count": 8,
   "metadata": {},
   "outputs": [
    {
     "data": {
      "text/html": [
       "<div>\n",
       "<style scoped>\n",
       "    .dataframe tbody tr th:only-of-type {\n",
       "        vertical-align: middle;\n",
       "    }\n",
       "\n",
       "    .dataframe tbody tr th {\n",
       "        vertical-align: top;\n",
       "    }\n",
       "\n",
       "    .dataframe thead th {\n",
       "        text-align: right;\n",
       "    }\n",
       "</style>\n",
       "<table border=\"1\" class=\"dataframe\">\n",
       "  <thead>\n",
       "    <tr style=\"text-align: right;\">\n",
       "      <th></th>\n",
       "      <th>Company</th>\n",
       "      <th>Parent Company</th>\n",
       "      <th>Penalty Amount</th>\n",
       "      <th>Penalty Year</th>\n",
       "      <th>President</th>\n",
       "    </tr>\n",
       "  </thead>\n",
       "  <tbody>\n",
       "    <tr>\n",
       "      <td>0</td>\n",
       "      <td>5N Plus Inc.</td>\n",
       "      <td>NaN</td>\n",
       "      <td>61150.0</td>\n",
       "      <td>2013</td>\n",
       "      <td>Obama</td>\n",
       "    </tr>\n",
       "    <tr>\n",
       "      <td>1</td>\n",
       "      <td>A&amp;L Cesspool Service Corporation</td>\n",
       "      <td>NaN</td>\n",
       "      <td>900000.0</td>\n",
       "      <td>2016</td>\n",
       "      <td>Obama</td>\n",
       "    </tr>\n",
       "    <tr>\n",
       "      <td>2</td>\n",
       "      <td>A-1 Barrel</td>\n",
       "      <td>NaN</td>\n",
       "      <td>15125.0</td>\n",
       "      <td>2012</td>\n",
       "      <td>Obama</td>\n",
       "    </tr>\n",
       "    <tr>\n",
       "      <td>3</td>\n",
       "      <td>A-1 Petroleum and Propane, Inc.</td>\n",
       "      <td>NaN</td>\n",
       "      <td>40000.0</td>\n",
       "      <td>2015</td>\n",
       "      <td>Obama</td>\n",
       "    </tr>\n",
       "    <tr>\n",
       "      <td>4</td>\n",
       "      <td>A-1 Restaurant Services, L.L.C.</td>\n",
       "      <td>NaN</td>\n",
       "      <td>200000.0</td>\n",
       "      <td>2016</td>\n",
       "      <td>Obama</td>\n",
       "    </tr>\n",
       "  </tbody>\n",
       "</table>\n",
       "</div>"
      ],
      "text/plain": [
       "                            Company Parent Company  Penalty Amount  \\\n",
       "0                      5N Plus Inc.            NaN         61150.0   \n",
       "1  A&L Cesspool Service Corporation            NaN        900000.0   \n",
       "2                        A-1 Barrel            NaN         15125.0   \n",
       "3   A-1 Petroleum and Propane, Inc.            NaN         40000.0   \n",
       "4   A-1 Restaurant Services, L.L.C.            NaN        200000.0   \n",
       "\n",
       "   Penalty Year President  \n",
       "0          2013     Obama  \n",
       "1          2016     Obama  \n",
       "2          2012     Obama  \n",
       "3          2015     Obama  \n",
       "4          2016     Obama  "
      ]
     },
     "execution_count": 8,
     "metadata": {},
     "output_type": "execute_result"
    }
   ],
   "source": [
    "df.head()"
   ]
  },
  {
   "cell_type": "code",
   "execution_count": 9,
   "metadata": {},
   "outputs": [
    {
     "data": {
      "text/html": [
       "<div>\n",
       "<style scoped>\n",
       "    .dataframe tbody tr th:only-of-type {\n",
       "        vertical-align: middle;\n",
       "    }\n",
       "\n",
       "    .dataframe tbody tr th {\n",
       "        vertical-align: top;\n",
       "    }\n",
       "\n",
       "    .dataframe thead th {\n",
       "        text-align: right;\n",
       "    }\n",
       "</style>\n",
       "<table border=\"1\" class=\"dataframe\">\n",
       "  <thead>\n",
       "    <tr style=\"text-align: right;\">\n",
       "      <th></th>\n",
       "      <th>Penalty Amount</th>\n",
       "      <th>Penalty Year</th>\n",
       "    </tr>\n",
       "  </thead>\n",
       "  <tbody>\n",
       "    <tr>\n",
       "      <td>count</td>\n",
       "      <td>4.063100e+04</td>\n",
       "      <td>40631.000000</td>\n",
       "    </tr>\n",
       "    <tr>\n",
       "      <td>mean</td>\n",
       "      <td>1.723004e+06</td>\n",
       "      <td>2008.825896</td>\n",
       "    </tr>\n",
       "    <tr>\n",
       "      <td>std</td>\n",
       "      <td>8.906337e+07</td>\n",
       "      <td>5.170255</td>\n",
       "    </tr>\n",
       "    <tr>\n",
       "      <td>min</td>\n",
       "      <td>5.000000e+03</td>\n",
       "      <td>2000.000000</td>\n",
       "    </tr>\n",
       "    <tr>\n",
       "      <td>25%</td>\n",
       "      <td>8.497500e+03</td>\n",
       "      <td>2005.000000</td>\n",
       "    </tr>\n",
       "    <tr>\n",
       "      <td>50%</td>\n",
       "      <td>1.718000e+04</td>\n",
       "      <td>2009.000000</td>\n",
       "    </tr>\n",
       "    <tr>\n",
       "      <td>75%</td>\n",
       "      <td>5.000000e+04</td>\n",
       "      <td>2013.000000</td>\n",
       "    </tr>\n",
       "    <tr>\n",
       "      <td>max</td>\n",
       "      <td>1.470000e+10</td>\n",
       "      <td>2019.000000</td>\n",
       "    </tr>\n",
       "  </tbody>\n",
       "</table>\n",
       "</div>"
      ],
      "text/plain": [
       "       Penalty Amount  Penalty Year\n",
       "count    4.063100e+04  40631.000000\n",
       "mean     1.723004e+06   2008.825896\n",
       "std      8.906337e+07      5.170255\n",
       "min      5.000000e+03   2000.000000\n",
       "25%      8.497500e+03   2005.000000\n",
       "50%      1.718000e+04   2009.000000\n",
       "75%      5.000000e+04   2013.000000\n",
       "max      1.470000e+10   2019.000000"
      ]
     },
     "execution_count": 9,
     "metadata": {},
     "output_type": "execute_result"
    }
   ],
   "source": [
    "df.describe()"
   ]
  },
  {
   "cell_type": "code",
   "execution_count": null,
   "metadata": {},
   "outputs": [],
   "source": []
  },
  {
   "cell_type": "code",
   "execution_count": null,
   "metadata": {},
   "outputs": [],
   "source": []
  }
 ],
 "metadata": {
  "kernelspec": {
   "display_name": "Python 3",
   "language": "python",
   "name": "python3"
  },
  "language_info": {
   "codemirror_mode": {
    "name": "ipython",
    "version": 3
   },
   "file_extension": ".py",
   "mimetype": "text/x-python",
   "name": "python",
   "nbconvert_exporter": "python",
   "pygments_lexer": "ipython3",
   "version": "3.7.4"
  }
 },
 "nbformat": 4,
 "nbformat_minor": 2
}
